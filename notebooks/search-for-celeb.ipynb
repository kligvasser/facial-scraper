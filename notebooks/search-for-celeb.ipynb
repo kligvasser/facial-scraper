{
 "cells": [
  {
   "cell_type": "code",
   "execution_count": 1,
   "metadata": {},
   "outputs": [],
   "source": [
    "%load_ext autoreload\n",
    "%autoreload 2\n",
    "%matplotlib inline\n",
    "\n",
    "import os\n",
    "import sys\n",
    "\n",
    "import pandas as pd\n",
    "from tqdm import tqdm\n",
    "\n",
    "parent = os.path.abspath(os.path.join(\"..\"))\n",
    "sys.path.append(parent)\n",
    "\n",
    "import youtube.youtube_api as youtube_api"
   ]
  },
  {
   "cell_type": "markdown",
   "metadata": {},
   "source": [
    "Celeb list"
   ]
  },
  {
   "cell_type": "code",
   "execution_count": 14,
   "metadata": {},
   "outputs": [],
   "source": [
    "api_keys = []\n",
    "youtuber = youtube_api.YouTubeAPI(api_keys.pop())"
   ]
  },
  {
   "cell_type": "code",
   "execution_count": 15,
   "metadata": {},
   "outputs": [],
   "source": [
    "csv_path = \"../urls/vox2_meta.csv\"\n",
    "celeb_df = pd.read_csv(csv_path)\n",
    "celeb_list = list(celeb_df[\"Name\"].values)"
   ]
  },
  {
   "cell_type": "code",
   "execution_count": 16,
   "metadata": {},
   "outputs": [],
   "source": [
    "csv_path = \"../urls/yt-@celebs4k-search.csv\"\n",
    "if os.path.exists(csv_path):\n",
    "    df = pd.read_csv(csv_path)\n",
    "else:\n",
    "    df = pd.DataFrame(columns=[\"url\", \"video_id\", \"celeb\"])"
   ]
  },
  {
   "cell_type": "code",
   "execution_count": 18,
   "metadata": {},
   "outputs": [
    {
     "name": "stderr",
     "output_type": "stream",
     "text": [
      "searching:   1%|▏         | 80/6114 [00:00<00:15, 396.70it/s]"
     ]
    },
    {
     "name": "stderr",
     "output_type": "stream",
     "text": [
      "searching:   3%|▎         | 162/6114 [00:00<00:14, 399.91it/s]"
     ]
    },
    {
     "name": "stdout",
     "output_type": "stream",
     "text": [
      "changing api-key...\n"
     ]
    },
    {
     "name": "stderr",
     "output_type": "stream",
     "text": [
      "searching:  55%|█████▌    | 3374/6114 [00:09<00:06, 398.64it/s]"
     ]
    },
    {
     "name": "stdout",
     "output_type": "stream",
     "text": [
      "changing api-key...\n"
     ]
    },
    {
     "name": "stderr",
     "output_type": "stream",
     "text": [
      "searching:  83%|████████▎ | 5082/6114 [00:14<00:04, 227.41it/s]"
     ]
    },
    {
     "name": "stdout",
     "output_type": "stream",
     "text": [
      "changing api-key...\n"
     ]
    },
    {
     "name": "stderr",
     "output_type": "stream",
     "text": [
      "searching: 100%|██████████| 6114/6114 [00:17<00:00, 348.75it/s]\n"
     ]
    }
   ],
   "source": [
    "for celeb in tqdm(celeb_list, desc=\"searching\"):\n",
    "    if celeb in list(set(list(df[\"celeb\"].values))):\n",
    "        continue\n",
    "\n",
    "    search_term = celeb + \" interview 4k\"\n",
    "    video_ids = youtuber.search_youtube(search_term)\n",
    "\n",
    "    if len(video_ids) == 0:\n",
    "        if len(api_keys) == 0:\n",
    "            break\n",
    "        else:\n",
    "            print(\"changing api-key...\")\n",
    "            youtuber = youtube_api.YouTubeAPI(api_keys.pop())\n",
    "            video_ids = youtuber.search_youtube(search_term)\n",
    "\n",
    "    for video_id in video_ids:\n",
    "        video_info = {\n",
    "            \"url\": \"https://www.youtube.com/watch?v=\" + video_id,\n",
    "            \"video_id\": video_id,\n",
    "            \"celeb\": celeb,\n",
    "        }\n",
    "        df = pd.concat([df, pd.DataFrame([video_info])], ignore_index=True)\n",
    "\n",
    "df = df.drop_duplicates(subset=\"video_id\", keep=False)\n",
    "df.to_csv(csv_path, index=False)"
   ]
  },
  {
   "cell_type": "markdown",
   "metadata": {},
   "source": [
    "Split"
   ]
  },
  {
   "cell_type": "code",
   "execution_count": 19,
   "metadata": {},
   "outputs": [],
   "source": [
    "def split_dataframe_to_chunks(df, k, shuffle=True):\n",
    "\n",
    "    if shuffle:\n",
    "        df = df.sample(frac=1).reset_index(drop=True)\n",
    "\n",
    "    num_chunks = len(df) // k + (1 if len(df) % k else 0)\n",
    "    chunks = [df[i * k : (i + 1) * k] for i in range(num_chunks)]\n",
    "\n",
    "    return chunks\n",
    "\n",
    "\n",
    "csv_path = \"../urls/yt-@celebs4k-search.csv\"\n",
    "ref_csv_path = \"../urls/yt-@celebs4k.csv\"\n",
    "\n",
    "df = pd.read_csv(csv_path)\n",
    "ref_df = pd.read_csv(ref_csv_path)\n",
    "\n",
    "values_to_remove = ref_df[\"video_id\"].unique()\n",
    "df = df[~df[\"video_id\"].isin(values_to_remove)]\n",
    "\n",
    "dir_name = os.path.join(\"../urls/\", os.path.basename(csv_path).replace(\".csv\", \"\"))\n",
    "if not os.path.exists(dir_name):\n",
    "    os.mkdir(dir_name)\n",
    "\n",
    "chunks = split_dataframe_to_chunks(df, k=5000)\n",
    "for i, chunk in enumerate(chunks):\n",
    "    chunk.to_csv(\n",
    "        os.path.join(\n",
    "            dir_name, os.path.basename(csv_path).replace(\".csv\", \"-{}.csv\".format(str(i).zfill(2)))\n",
    "        ),\n",
    "        index=False,\n",
    "    )"
   ]
  }
 ],
 "metadata": {
  "kernelspec": {
   "display_name": "Python 3",
   "language": "python",
   "name": "python3"
  },
  "language_info": {
   "codemirror_mode": {
    "name": "ipython",
    "version": 3
   },
   "file_extension": ".py",
   "mimetype": "text/x-python",
   "name": "python",
   "nbconvert_exporter": "python",
   "pygments_lexer": "ipython3",
   "version": "3.9.5"
  },
  "orig_nbformat": 4
 },
 "nbformat": 4,
 "nbformat_minor": 2
}
